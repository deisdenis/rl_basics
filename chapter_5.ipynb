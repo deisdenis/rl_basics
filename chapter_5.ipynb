{
 "cells": [
  {
   "cell_type": "code",
   "execution_count": 1,
   "metadata": {
    "collapsed": true,
    "ExecuteTime": {
     "end_time": "2023-05-31T22:37:38.713481Z",
     "start_time": "2023-05-31T22:37:38.647026900Z"
    }
   },
   "outputs": [],
   "source": [
    "import numpy as np\n",
    "from spaces import blackjack\n",
    "from rlmodels import rlmodels"
   ]
  },
  {
   "cell_type": "code",
   "execution_count": 2,
   "outputs": [],
   "source": [
    "bj = blackjack.BlackJack()"
   ],
   "metadata": {
    "collapsed": false,
    "ExecuteTime": {
     "end_time": "2023-05-31T22:37:38.716692700Z",
     "start_time": "2023-05-31T22:37:38.714478600Z"
    }
   }
  },
  {
   "cell_type": "code",
   "execution_count": 3,
   "outputs": [
    {
     "name": "stdout",
     "output_type": "stream",
     "text": [
      "{4: -0.574468085106383, 5: -0.48175182481751827, 6: -0.5784313725490197, 7: -0.4944237918215613, 8: -0.5536332179930796, 9: -0.5366492146596858, 10: -0.17714285714285713, 11: -0.09945750452079566, 12: -0.5491525423728814, 13: -0.5436349079263411, 14: -0.5959302325581395, 15: -0.6026261230131306, 16: -0.6493411420204978, 17: -0.6728723404255319, 18: -0.6719160104986877, 19: -0.6636942675159235, 20: 0.5894454382826476, 21: 0.8906152889993785, 22: -1.0}\n"
     ]
    }
   ],
   "source": [
    "bja = rlmodels.BlackJackAgent(bj)\n",
    "for _ in range(10000):\n",
    "    bja.run_episode()\n",
    "bja.print_v()"
   ],
   "metadata": {
    "collapsed": false,
    "ExecuteTime": {
     "end_time": "2023-05-31T22:37:39.486745Z",
     "start_time": "2023-05-31T22:37:38.716692700Z"
    }
   }
  },
  {
   "cell_type": "code",
   "execution_count": 4,
   "outputs": [
    {
     "name": "stdout",
     "output_type": "stream",
     "text": [
      "{4: -0.5050970075633016, 5: -0.48678487788558045, 6: -0.5291745996192183, 7: -0.5427818167292482, 8: -0.5593615715162676, 9: -0.5369073814762952, 10: -0.17037191809444213, 11: -0.08676337891302839, 12: -0.5436360359769983, 13: -0.5604838709677419, 14: -0.5816498316498316, 15: -0.6084291187739463, 16: -0.6364202571590705, 17: -0.6563997262149213, 18: -0.6763401277365142, 19: -0.6939892773540739, 20: 0.5802290690866511, 21: 0.8818886787016273, 22: -1.0}\n"
     ]
    }
   ],
   "source": [
    "bja = rlmodels.BlackJackAgent(bj)\n",
    "for _ in range(500000):\n",
    "    bja.run_episode()\n",
    "bja.print_v()"
   ],
   "metadata": {
    "collapsed": false,
    "ExecuteTime": {
     "end_time": "2023-05-31T22:43:34.336565300Z",
     "start_time": "2023-05-31T22:37:39.503699900Z"
    }
   }
  }
 ],
 "metadata": {
  "kernelspec": {
   "display_name": "Python 3",
   "language": "python",
   "name": "python3"
  },
  "language_info": {
   "codemirror_mode": {
    "name": "ipython",
    "version": 2
   },
   "file_extension": ".py",
   "mimetype": "text/x-python",
   "name": "python",
   "nbconvert_exporter": "python",
   "pygments_lexer": "ipython2",
   "version": "2.7.6"
  }
 },
 "nbformat": 4,
 "nbformat_minor": 0
}
