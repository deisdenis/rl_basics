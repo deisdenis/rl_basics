{
 "cells": [
  {
   "cell_type": "code",
   "execution_count": 1,
   "metadata": {
    "collapsed": true,
    "ExecuteTime": {
     "end_time": "2023-06-16T01:18:57.275821100Z",
     "start_time": "2023-06-16T01:18:57.205318Z"
    }
   },
   "outputs": [],
   "source": [
    "from rlmodels import rlmodels\n",
    "from spaces import windy_gridworld"
   ]
  },
  {
   "cell_type": "code",
   "execution_count": 2,
   "outputs": [],
   "source": [
    "wgw = windy_gridworld.WindyGridWorld()\n",
    "wgwa = rlmodels.WindyGridWorldAgent(wgw)"
   ],
   "metadata": {
    "collapsed": false,
    "ExecuteTime": {
     "end_time": "2023-06-16T01:18:57.278918700Z",
     "start_time": "2023-06-16T01:18:57.277417100Z"
    }
   }
  },
  {
   "cell_type": "code",
   "execution_count": 3,
   "outputs": [],
   "source": [
    "for i in range(10000):\n",
    "    wgw.set_current_state((3, 0))\n",
    "    wgwa.run_episode()"
   ],
   "metadata": {
    "collapsed": false,
    "ExecuteTime": {
     "end_time": "2023-06-16T01:18:58.360020Z",
     "start_time": "2023-06-16T01:18:57.279917200Z"
    }
   }
  },
  {
   "cell_type": "code",
   "execution_count": 4,
   "outputs": [
    {
     "name": "stdout",
     "output_type": "stream",
     "text": [
      "['right', 'right', 'right', 'right', 'right', 'right', 'right', 'right', 'right', 'down', 'down', 'down', 'down', 'left', 'left']\n",
      "15\n"
     ]
    }
   ],
   "source": [
    "policy = wgwa.get_policy((3, 0))\n",
    "print(policy)\n",
    "print(len(policy))"
   ],
   "metadata": {
    "collapsed": false,
    "ExecuteTime": {
     "end_time": "2023-06-16T01:18:58.364666700Z",
     "start_time": "2023-06-16T01:18:58.361987900Z"
    }
   }
  },
  {
   "cell_type": "code",
   "execution_count": null,
   "outputs": [],
   "source": [],
   "metadata": {
    "collapsed": false
   }
  }
 ],
 "metadata": {
  "kernelspec": {
   "display_name": "Python 3",
   "language": "python",
   "name": "python3"
  },
  "language_info": {
   "codemirror_mode": {
    "name": "ipython",
    "version": 2
   },
   "file_extension": ".py",
   "mimetype": "text/x-python",
   "name": "python",
   "nbconvert_exporter": "python",
   "pygments_lexer": "ipython2",
   "version": "2.7.6"
  }
 },
 "nbformat": 4,
 "nbformat_minor": 0
}
