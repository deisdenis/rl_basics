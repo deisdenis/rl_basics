{
 "cells": [
  {
   "cell_type": "code",
   "execution_count": 1,
   "metadata": {
    "collapsed": true,
    "ExecuteTime": {
     "end_time": "2023-06-01T19:35:03.734577900Z",
     "start_time": "2023-06-01T19:35:03.643678400Z"
    }
   },
   "outputs": [],
   "source": [
    "from rlmodels import rlmodels\n",
    "from spaces import windy_gridworld"
   ]
  },
  {
   "cell_type": "code",
   "execution_count": 2,
   "outputs": [],
   "source": [
    "wgw = windy_gridworld.WindyGridWorld()\n",
    "wgwa = rlmodels.WindyGridWorldAgent(wgw)"
   ],
   "metadata": {
    "collapsed": false,
    "ExecuteTime": {
     "end_time": "2023-06-01T19:35:03.734577900Z",
     "start_time": "2023-06-01T19:35:03.721583200Z"
    }
   }
  },
  {
   "cell_type": "code",
   "execution_count": 3,
   "outputs": [],
   "source": [
    "for i in range(1000):\n",
    "    wgw.set_current_state((3, 0))\n",
    "    terminal_states = [(3, 7)]\n",
    "    wgwa.run_episode(terminal_states, wgw)"
   ],
   "metadata": {
    "collapsed": false,
    "ExecuteTime": {
     "end_time": "2023-06-01T19:35:03.841885800Z",
     "start_time": "2023-06-01T19:35:03.734577900Z"
    }
   }
  },
  {
   "cell_type": "code",
   "execution_count": 4,
   "outputs": [
    {
     "name": "stdout",
     "output_type": "stream",
     "text": [
      "[3, 3, 3, 3, 3, 3, 3, 3, 3, 1, 1, 1, 1, 2, 2]\n",
      "15\n"
     ]
    }
   ],
   "source": [
    "policy = wgwa.get_policy((3, 0), terminal_states, wgw)\n",
    "print(policy)\n",
    "print(len(policy))"
   ],
   "metadata": {
    "collapsed": false,
    "ExecuteTime": {
     "end_time": "2023-06-01T19:35:03.845959300Z",
     "start_time": "2023-06-01T19:35:03.842883400Z"
    }
   }
  }
 ],
 "metadata": {
  "kernelspec": {
   "display_name": "Python 3",
   "language": "python",
   "name": "python3"
  },
  "language_info": {
   "codemirror_mode": {
    "name": "ipython",
    "version": 2
   },
   "file_extension": ".py",
   "mimetype": "text/x-python",
   "name": "python",
   "nbconvert_exporter": "python",
   "pygments_lexer": "ipython2",
   "version": "2.7.6"
  }
 },
 "nbformat": 4,
 "nbformat_minor": 0
}
